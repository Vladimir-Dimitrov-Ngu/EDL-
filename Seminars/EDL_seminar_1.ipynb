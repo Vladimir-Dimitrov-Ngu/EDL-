{
  "nbformat": 4,
  "nbformat_minor": 0,
  "metadata": {
    "colab": {
      "provenance": []
    },
    "kernelspec": {
      "name": "python3",
      "display_name": "Python 3"
    },
    "language_info": {
      "name": "python"
    },
    "accelerator": "GPU",
    "gpuClass": "standard"
  },
  "cells": [
    {
      "cell_type": "code",
      "execution_count": 2,
      "metadata": {
        "colab": {
          "base_uri": "https://localhost:8080/"
        },
        "id": "vlxucEfpOIbY",
        "outputId": "8ffaa33b-a911-49d1-ea3d-aff5cc55e32c"
      },
      "outputs": [
        {
          "output_type": "execute_result",
          "data": {
            "text/plain": [
              "True"
            ]
          },
          "metadata": {},
          "execution_count": 2
        }
      ],
      "source": [
        "import torch \n",
        "torch.cuda.is_available()"
      ]
    },
    {
      "cell_type": "code",
      "source": [
        "torch.cuda.get_device_properties(0)"
      ],
      "metadata": {
        "colab": {
          "base_uri": "https://localhost:8080/"
        },
        "id": "RzJpn4OkOUOC",
        "outputId": "925f9d28-e0bc-44fc-ff2a-a7a751dee7d6"
      },
      "execution_count": 2,
      "outputs": [
        {
          "output_type": "execute_result",
          "data": {
            "text/plain": [
              "_CudaDeviceProperties(name='Tesla T4', major=7, minor=5, total_memory=15109MB, multi_processor_count=40)"
            ]
          },
          "metadata": {},
          "execution_count": 2
        }
      ]
    },
    {
      "cell_type": "code",
      "source": [
        "torch.backends.cudnn.benchmark"
      ],
      "metadata": {
        "id": "iSsR_tLZy9Ro"
      },
      "execution_count": null,
      "outputs": []
    },
    {
      "cell_type": "markdown",
      "source": [
        "### Memory allocation "
      ],
      "metadata": {
        "id": "SXDExm7FOoMx"
      }
    },
    {
      "cell_type": "markdown",
      "source": [
        "torch.cuda.empty_cashe() - чистка кэша. Не рекомендуется к использованию.\n",
        "\n"
      ],
      "metadata": {
        "id": "yicHQhtmwJnP"
      }
    },
    {
      "cell_type": "code",
      "source": [
        "!nvidia-smi"
      ],
      "metadata": {
        "colab": {
          "base_uri": "https://localhost:8080/"
        },
        "id": "C9WwTQNfOqc8",
        "outputId": "6c5ecac3-f1b8-4ace-e97d-eeddf202b417"
      },
      "execution_count": 3,
      "outputs": [
        {
          "output_type": "stream",
          "name": "stdout",
          "text": [
            "Tue Jan 10 05:53:28 2023       \n",
            "+-----------------------------------------------------------------------------+\n",
            "| NVIDIA-SMI 460.32.03    Driver Version: 460.32.03    CUDA Version: 11.2     |\n",
            "|-------------------------------+----------------------+----------------------+\n",
            "| GPU  Name        Persistence-M| Bus-Id        Disp.A | Volatile Uncorr. ECC |\n",
            "| Fan  Temp  Perf  Pwr:Usage/Cap|         Memory-Usage | GPU-Util  Compute M. |\n",
            "|                               |                      |               MIG M. |\n",
            "|===============================+======================+======================|\n",
            "|   0  Tesla T4            Off  | 00000000:00:04.0 Off |                    0 |\n",
            "| N/A   34C    P8     9W /  70W |      3MiB / 15109MiB |      0%      Default |\n",
            "|                               |                      |                  N/A |\n",
            "+-------------------------------+----------------------+----------------------+\n",
            "                                                                               \n",
            "+-----------------------------------------------------------------------------+\n",
            "| Processes:                                                                  |\n",
            "|  GPU   GI   CI        PID   Type   Process name                  GPU Memory |\n",
            "|        ID   ID                                                   Usage      |\n",
            "|=============================================================================|\n",
            "|  No running processes found                                                 |\n",
            "+-----------------------------------------------------------------------------+\n"
          ]
        }
      ]
    },
    {
      "cell_type": "markdown",
      "source": [
        "### Banchmarking "
      ],
      "metadata": {
        "id": "cAbR3gsIx_1f"
      }
    },
    {
      "cell_type": "markdown",
      "source": [
        "Сравниваем работу функции с помощью команд time, timeit и т.д. Пытаемся найти самый быстрый алгоритм и применяем его в нашей нейронке."
      ],
      "metadata": {
        "id": "MccU5BmFyB4e"
      }
    },
    {
      "cell_type": "markdown",
      "source": [
        "### Debugging"
      ],
      "metadata": {
        "id": "qnT4c6DJyLfm"
      }
    },
    {
      "cell_type": "markdown",
      "source": [
        "Из-за асинхрона ошибка плохо идентифицировать. Для этого используем на CPU и смотрим откуда она вылезла. Можно использовать !CUDA_LAUNCH_BLOCKING=1"
      ],
      "metadata": {
        "id": "0qm_9grWyOrT"
      }
    },
    {
      "cell_type": "markdown",
      "source": [
        "### Precision of floating point operations"
      ],
      "metadata": {
        "id": "QDv63kWxyoGC"
      }
    },
    {
      "cell_type": "markdown",
      "source": [
        "Абсолютная ошибка может быть достаточно большой для вычислений на разных девайсах."
      ],
      "metadata": {
        "id": "reX7N27dyr-d"
      }
    }
  ]
}