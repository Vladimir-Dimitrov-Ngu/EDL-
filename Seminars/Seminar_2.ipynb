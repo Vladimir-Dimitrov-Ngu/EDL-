{
  "nbformat": 4,
  "nbformat_minor": 0,
  "metadata": {
    "colab": {
      "provenance": []
    },
    "kernelspec": {
      "name": "python3",
      "display_name": "Python 3"
    },
    "language_info": {
      "name": "python"
    }
  },
  "cells": [
    {
      "cell_type": "markdown",
      "source": [
        "### Parallel GloVe\n",
        "https://github.com/stanfordnlp/GloVe"
      ],
      "metadata": {
        "id": "8pvDSCIEBW7K"
      }
    },
    {
      "cell_type": "code",
      "source": [
        "%env MKL_NUM_THREADS=1\n",
        "%env NUMEXPR_NUM_THREADS=1\n",
        "%env OMP_NUM_THREADS=1\n",
        "# set numpy to single-threaded mode for benchmarking\n",
        "\n",
        "!pip install --upgrade nltk datasets tqdm\n",
        "!wget https://raw.githubusercontent.com/mryab/efficient-dl-systems/main/week02_distributed/utils.py -O utils.py\n",
        "\n",
        "import time, random\n",
        "import multiprocessing as mp\n",
        "import numpy as np\n",
        "from tqdm import tqdm, trange\n",
        "from IPython.display import clear_output\n",
        "import matplotlib.pyplot as plt\n",
        "%matplotlib inline\n",
        "clear_output()"
      ],
      "metadata": {
        "id": "7uayuSykBZyZ"
      },
      "execution_count": 1,
      "outputs": []
    },
    {
      "cell_type": "markdown",
      "source": [
        "### Multiprocessing basics"
      ],
      "metadata": {
        "id": "NbdKWPwtBg3o"
      }
    },
    {
      "cell_type": "code",
      "source": [
        "def foo(i):\n",
        "    \"\"\" Imagine particularly computation-heavy function... \"\"\"\n",
        "    print(end=f\"Began foo({i})...\\n\")\n",
        "    result = np.sin(i)\n",
        "    time.sleep(abs(result))\n",
        "    # time.sleep(5)\n",
        "    print(end=f\"Finished foo({i}) = {result:.3f}.\\n\")\n",
        "    return result"
      ],
      "metadata": {
        "id": "Jn8dJscdBxbf"
      },
      "execution_count": 24,
      "outputs": []
    },
    {
      "cell_type": "code",
      "source": [
        "%%time\n",
        "results_naive = [foo(i) for i in range(10)]\n",
        "clear_output()"
      ],
      "metadata": {
        "colab": {
          "base_uri": "https://localhost:8080/"
        },
        "id": "g1wdjiQ8Bz5x",
        "outputId": "6ba19d00-1766-4ad0-f1d1-5bbcc38959e9"
      },
      "execution_count": 3,
      "outputs": [
        {
          "output_type": "stream",
          "name": "stdout",
          "text": [
            "CPU times: user 47.3 ms, sys: 7.04 ms, total: 54.3 ms\n",
            "Wall time: 5.96 s\n"
          ]
        }
      ]
    },
    {
      "cell_type": "markdown",
      "source": [
        "Создание процесса"
      ],
      "metadata": {
        "id": "F4OUUEsNCcrh"
      }
    },
    {
      "cell_type": "code",
      "source": [
        "# Правда мы можем создать процесс\n",
        "proc = mp.Process(target = foo, args  = [5])"
      ],
      "metadata": {
        "id": "xFpAFPxKB3Me"
      },
      "execution_count": 9,
      "outputs": []
    },
    {
      "cell_type": "code",
      "source": [
        "proc.start()"
      ],
      "metadata": {
        "colab": {
          "base_uri": "https://localhost:8080/"
        },
        "id": "ueNo54SACFTP",
        "outputId": "496cdd66-2e61-4ba4-a859-8c720ae13336"
      },
      "execution_count": 10,
      "outputs": [
        {
          "output_type": "stream",
          "name": "stdout",
          "text": [
            "Began foo(5)...\n"
          ]
        }
      ]
    },
    {
      "cell_type": "code",
      "source": [
        "proc.join() # Ждем пока процесс выполнится"
      ],
      "metadata": {
        "id": "R-Dq9xdtCH6o"
      },
      "execution_count": 11,
      "outputs": []
    },
    {
      "cell_type": "markdown",
      "source": [
        "Создание класса для работы с процессами\n",
        "\n",
        "Главное реализовать метод **run**"
      ],
      "metadata": {
        "id": "LXz89qZjCfof"
      }
    },
    {
      "cell_type": "code",
      "source": [
        "# Когда логика немного сложнее, чем одна функция, можно воспользоваться созданием класса\n",
        "class DoerOfSomething(mp.Process):\n",
        "  def __init__(self, ):\n",
        "    super().__init__()\n",
        "\n",
        "  def run(self):\n",
        "    i = 5\n",
        "    print(end=f\"Began foo({i})...\\n\")\n",
        "    result = np.sin(i)\n",
        "    time.sleep(abs(result))\n",
        "    time.sleep(5)\n",
        "    print(end=f\"Finished foo({i}) = {result:.3f}.\\n\")\n",
        "    return result"
      ],
      "metadata": {
        "id": "tjCnhvNtCXfg"
      },
      "execution_count": 12,
      "outputs": []
    },
    {
      "cell_type": "code",
      "source": [
        "proc = DoerOfSomething()"
      ],
      "metadata": {
        "id": "rPOYaI-zC9Ym"
      },
      "execution_count": 19,
      "outputs": []
    },
    {
      "cell_type": "code",
      "source": [
        "proc.start()\n",
        "proc.join()"
      ],
      "metadata": {
        "colab": {
          "base_uri": "https://localhost:8080/"
        },
        "id": "HjmpBPrODJU7",
        "outputId": "d2b2f972-1a8e-4513-e725-944e4cf4cfe4"
      },
      "execution_count": 20,
      "outputs": [
        {
          "output_type": "stream",
          "name": "stdout",
          "text": [
            "Began foo(5)...\n",
            "Finished foo(5) = -0.959.\n"
          ]
        }
      ]
    },
    {
      "cell_type": "markdown",
      "source": [
        "Как мы могли наблюдать простая реализация функции foo в среднем занимает 5 секунд\n",
        "\n",
        "Давайте ускорим это с помощью параллелизма"
      ],
      "metadata": {
        "id": "6gAg_jVbDQcZ"
      }
    },
    {
      "cell_type": "code",
      "source": [
        "%%time \n",
        "processes = []\n",
        "# создали наши процессы\n",
        "for i in range(10):\n",
        "  proc = mp.Process(target = foo, args = [i])\n",
        "  processes.append(proc)\n",
        "print(f'Мы создали {len(processes)} процессов')\n",
        "\n",
        "# Стартуем вычислять их параллельно\n",
        "\n",
        "for i in range(10):\n",
        "  processes[i].start()\n",
        "for i in range(10):\n",
        "  processes[i].join()\n",
        "clear_output()\n",
        "\n",
        "# 5 секунд превратились в 1...."
      ],
      "metadata": {
        "colab": {
          "base_uri": "https://localhost:8080/"
        },
        "id": "x9_qirO2DlS0",
        "outputId": "9bcc8ee6-f3ae-42bc-b3ae-ebfff9cefdc4"
      },
      "execution_count": 26,
      "outputs": [
        {
          "output_type": "stream",
          "name": "stdout",
          "text": [
            "CPU times: user 48.1 ms, sys: 97.7 ms, total: 146 ms\n",
            "Wall time: 1.14 s\n"
          ]
        }
      ]
    },
    {
      "cell_type": "markdown",
      "source": [
        "Процесс мы ускорили, теперь задача вытаскивать файл из самого процесса. Для этого нам поможет pipe.\n"
      ],
      "metadata": {
        "id": "qpuM7vLgEb5x"
      }
    },
    {
      "cell_type": "markdown",
      "source": [
        "Немного про pipe.\n",
        "\n",
        "* pipe.send(data) - отправка данных в трубу\n",
        "* data = pipe.recv() - чтение данных из трубы\n",
        "\n",
        "Правила: \n",
        "* Каждая сторона должна контролироваться одним процессом\n",
        "* Данные должны быть serializable\n",
        "* `duplex=True` - процесс может коммуницировать с двух сторон"
      ],
      "metadata": {
        "id": "dilU0zYsHA2m"
      }
    },
    {
      "cell_type": "code",
      "source": [
        "side_a, side_b = mp.Pipe()\n",
        "\n",
        "side_a.send(123)\n",
        "side_a.send({'olo': np.random.randn(3)})\n",
        "\n",
        "print('side_b.recv() -> ', side_b.recv())\n",
        "print('side_b.recv() -> ', side_b.recv())"
      ],
      "metadata": {
        "colab": {
          "base_uri": "https://localhost:8080/"
        },
        "id": "BerTNOUyHdQj",
        "outputId": "c46f199d-6353-4507-c256-bbb8534807fd"
      },
      "execution_count": 28,
      "outputs": [
        {
          "output_type": "stream",
          "name": "stdout",
          "text": [
            "side_b.recv() ->  123\n",
            "side_b.recv() ->  {'olo': array([-0.77744094,  0.51581657,  0.27863038])}\n"
          ]
        }
      ]
    },
    {
      "cell_type": "markdown",
      "source": [
        "Чтобы отдавать во время выполнении функции данные, можно подать аргументом сам pipe"
      ],
      "metadata": {
        "id": "n5HRDNMOIASQ"
      }
    },
    {
      "cell_type": "code",
      "source": [
        "def compute_and_send(i, output_pipe):\n",
        "  print(end = f'Начал вычисления ({i})...\\n')\n",
        "  result = np.sin(i)\n",
        "  time.sleep(abs(result))\n",
        "  print(end = f'Закончил вычисления и отправил({i}) = {result:.3f}.\\n')\n",
        "  output_pipe.send(result)\n"
      ],
      "metadata": {
        "id": "bPbP1UMnDjcS"
      },
      "execution_count": 35,
      "outputs": []
    },
    {
      "cell_type": "code",
      "source": [
        "%%time \n",
        "\n",
        "result_pipes = []\n",
        "\n",
        "for i in range(10):\n",
        "  side_A, side_B = mp.Pipe(duplex = False)\n",
        "  # Side_B - может только отправлять \n",
        "  # Side_A - только читать\n",
        "  result_pipes.append(side_A)\n",
        "  proc = mp.Process(target = compute_and_send, args = [i, side_B])\n",
        "  proc.start()\n",
        "\n",
        "print('Главный процесс: ждет результаты...')\n",
        "for pipe in result_pipes:\n",
        "  print(f'Главный процесс получил: received {pipe.recv()}')\n",
        "print('Главный процесс готов!')"
      ],
      "metadata": {
        "colab": {
          "base_uri": "https://localhost:8080/"
        },
        "id": "htpVAqDvIeEb",
        "outputId": "ba630ac9-15f3-4000-985b-ed21f3d1479b"
      },
      "execution_count": 36,
      "outputs": [
        {
          "output_type": "stream",
          "name": "stdout",
          "text": [
            "Начал вычисления (0)...\n",
            "Закончил вычисления и отправил(0) = 0.000.\n",
            "Начал вычисления (1)...\n",
            "Начал вычисления (2)...\n",
            "Начал вычисления (3)...\n",
            "Начал вычисления (4)...\n",
            "Начал вычисления (5)...\n",
            "Начал вычисления (6)...\n",
            "Начал вычисления (7)...\n",
            "Начал вычисления (8)...\n",
            "Начал вычисления (9)...\n",
            "Закончил вычисления и отправил(3) = 0.141.\n",
            "Главный процесс: ждет результаты...\n",
            "Главный процесс получил: received 0.0\n",
            "Закончил вычисления и отправил(6) = -0.279.\n",
            "Закончил вычисления и отправил(9) = 0.412.\n",
            "Закончил вычисления и отправил(7) = 0.657.\n",
            "Закончил вычисления и отправил(4) = -0.757.\n",
            "Закончил вычисления и отправил(1) = 0.841.\n",
            "Закончил вычисления и отправил(2) = 0.909.\n",
            "Закончил вычисления и отправил(5) = -0.959.\n",
            "Главный процесс получил: received 0.8414709848078965\n",
            "Главный процесс получил: received 0.9092974268256817\n",
            "Главный процесс получил: received 0.1411200080598672\n",
            "Главный процесс получил: received -0.7568024953079282\n",
            "Главный процесс получил: received -0.9589242746631385\n",
            "Главный процесс получил: received -0.27941549819892586\n",
            "Главный процесс получил: received 0.6569865987187891\n",
            "Закончил вычисления и отправил(8) = 0.989.\n",
            "Главный процесс получил: received 0.9893582466233818\n",
            "Главный процесс получил: received 0.4121184852417566\n",
            "Главный процесс готов!\n",
            "CPU times: user 72.1 ms, sys: 82.2 ms, total: 154 ms\n",
            "Wall time: 1.13 s\n"
          ]
        }
      ]
    },
    {
      "cell_type": "code",
      "source": [
        "side_A, side_B = mp.Pipe(duplex = False)\n",
        "side_A"
      ],
      "metadata": {
        "colab": {
          "base_uri": "https://localhost:8080/"
        },
        "id": "tl9usSwvJGZs",
        "outputId": "c60bbee0-9e8a-4c56-e5c5-9c5eca345842"
      },
      "execution_count": 31,
      "outputs": [
        {
          "output_type": "execute_result",
          "data": {
            "text/plain": [
              "<multiprocessing.connection.Connection at 0x7f8351aa4760>"
            ]
          },
          "metadata": {},
          "execution_count": 31
        }
      ]
    },
    {
      "cell_type": "markdown",
      "source": [
        "Также можно использовать специальные шаблоны: Queue\n",
        "\n",
        "Queue - позволяет создать объект, к которому обращаются несколько процессов параеллельно.\n",
        "\n",
        "* queue.put() - добавить значение в очередь, которое доступно для всех других процессов\n",
        "\n",
        "* queue.get() - возвращение ранее добавленного значения и удаление оного из очереди.\n"
      ],
      "metadata": {
        "id": "kHARE7qiDEk8"
      }
    },
    {
      "cell_type": "code",
      "source": [
        "queue = mp.Queue()\n",
        "\n",
        "def func_A(queue):\n",
        "  print('A: Ждет очередь...')\n",
        "  print('A: возвращает значение из очереди', queue.get())\n",
        "  print('A: Ждет очередь...')\n",
        "  print('A: возвращает значение из очереди', queue.get())\n",
        "  print('A: завершилось!')\n",
        "\n",
        "def func_B(i, queue):\n",
        "  np.random.seed()\n",
        "  value = np.random.rand()\n",
        "  time.sleep(value)\n",
        "  print(f'proc_B{i}: передаю значение в очередь')\n",
        "  queue.put(value)\n",
        "\n",
        "proc_A = mp.Process(target = func_A, args = [queue])\n",
        "proc_A.start()\n",
        "\n",
        "proc_B1 = mp.Process(target = func_B, args = [1, queue])\n",
        "proc_B2 = mp.Process(target = func_B, args = [2, queue])\n",
        "\n",
        "proc_B1.start()\n",
        "proc_B2.start()\n",
        "\n",
        "proc_A.join()"
      ],
      "metadata": {
        "colab": {
          "base_uri": "https://localhost:8080/"
        },
        "id": "q0jwvjFdZBM5",
        "outputId": "ef939048-f50a-4e3d-971e-0b0e887dac5c"
      },
      "execution_count": 5,
      "outputs": [
        {
          "output_type": "stream",
          "name": "stdout",
          "text": [
            "A: Ждет очередь...\n",
            "proc_B2: передаю значение в очередь\n",
            "A: возвращает значение из очереди 0.5404923506004935\n",
            "A: Ждет очередь...\n",
            "proc_B1: передаю значение в очередь\n",
            "A: возвращает значение из очереди 0.6578486185522561\n",
            "A: завершилось!\n"
          ]
        }
      ]
    },
    {
      "cell_type": "markdown",
      "source": [
        "Главные отличия `pipe` от `queue`\n",
        "\n",
        "* Pipe быстрее для коммуникации 1v1\n",
        "* Queue поддерживают произвольное количество процессов\n",
        "* Queue может осуществляться вместе pipes"
      ],
      "metadata": {
        "id": "BUkG0_kgaCHX"
      }
    },
    {
      "cell_type": "markdown",
      "source": [
        "### Glove preprocessing "
      ],
      "metadata": {
        "id": "TIuylMYmaUJP"
      }
    },
    {
      "cell_type": "markdown",
      "source": [
        "Создаим  co-occurence"
      ],
      "metadata": {
        "id": "wVvARjv4aYBz"
      }
    },
    {
      "cell_type": "code",
      "source": [
        "import datasets\n",
        "data = datasets.load_dataset('wikitext', 'wikitext-103-raw-v1')\n",
        "clear_output()\n",
        "print(\"Example:\", data['train']['text'][5])"
      ],
      "metadata": {
        "colab": {
          "base_uri": "https://localhost:8080/"
        },
        "id": "_dtpRcvgad_x",
        "outputId": "af71c9a5-c00a-4a81-e550-5c42635a3991"
      },
      "execution_count": 8,
      "outputs": [
        {
          "output_type": "stream",
          "name": "stdout",
          "text": [
            "Example:  It met with positive sales in Japan , and was praised by both Japanese and western critics . After release , it received downloadable content , along with an expanded edition in November of that year . It was also adapted into manga and an original video animation series . Due to low sales of Valkyria Chronicles II , Valkyria Chronicles III was not localized , but a fan translation compatible with the game 's expanded edition was released in 2014 . Media.Vision would return to the franchise with the development of Valkyria : Azure Revolution for the PlayStation 4 . \n",
            "\n"
          ]
        }
      ]
    },
    {
      "cell_type": "code",
      "source": [
        "from collections import Counter\n",
        "from nltk.tokenize import NLTKWordTokenizer\n",
        "tokenizer = NLTKWordTokenizer()\n",
        "\n",
        "def count_tokens(lines, top_k=None):\n",
        "    \"\"\" Tokenize lines and return top_k most frequent tokens and their counts \"\"\"\n",
        "    sent_tokens = tokenizer.tokenize_sents(map(str.lower, lines))\n",
        "    token_counts = Counter([token for sent in sent_tokens for token in sent])\n",
        "    return Counter(dict(token_counts.most_common(top_k)))\n",
        "\n",
        "count_tokens(data['train']['text'][:100], top_k=10)"
      ],
      "metadata": {
        "colab": {
          "base_uri": "https://localhost:8080/",
          "height": 191
        },
        "id": "ui-sZ9hSaqqg",
        "outputId": "0bccb95a-5c83-4600-c83c-3ac36ec90b84"
      },
      "execution_count": 9,
      "outputs": [
        {
          "output_type": "execute_result",
          "data": {
            "text/plain": [
              "Counter({'the': 459,\n",
              "         ',': 349,\n",
              "         '.': 225,\n",
              "         'of': 193,\n",
              "         'to': 150,\n",
              "         'and': 147,\n",
              "         'in': 104,\n",
              "         '@': 100,\n",
              "         'a': 93,\n",
              "         'was': 83})"
            ]
          },
          "metadata": {},
          "execution_count": 9
        }
      ]
    },
    {
      "cell_type": "code",
      "source": [
        "%%time\n",
        "# sequential algorithm \n",
        "texts = data['train']['text'][:100_000]\n",
        "vocabulary_size = 32_000\n",
        "batch_size = 10000\n",
        "\n",
        "token_counts = Counter()\n",
        "\n",
        "for batch_start in trange(0, len(texts), batch_size):\n",
        "  batch_texts = texts[batch_start: batch_start + batch_size]\n",
        "  batch_counts = count_tokens(batch_texts, top_k = vocabulary_size)\n",
        "  token_counts += batch_counts\n",
        "clear_output()\n",
        "token_counts_reference = Counter(token_counts)"
      ],
      "metadata": {
        "colab": {
          "base_uri": "https://localhost:8080/"
        },
        "id": "HqZ75jFjasHq",
        "outputId": "c83a20c1-305d-41cb-a996-1d94ee6c813c"
      },
      "execution_count": 15,
      "outputs": [
        {
          "output_type": "stream",
          "name": "stderr",
          "text": [
            "100%|██████████| 10/10 [00:27<00:00,  2.79s/it]"
          ]
        },
        {
          "output_type": "stream",
          "name": "stdout",
          "text": [
            "CPU times: user 29.5 s, sys: 341 ms, total: 29.9 s\n",
            "Wall time: 30.8 s\n"
          ]
        },
        {
          "output_type": "stream",
          "name": "stderr",
          "text": [
            "\n"
          ]
        }
      ]
    },
    {
      "cell_type": "markdown",
      "source": [
        "Давайте попорубем распараллелить нашу задачу\n",
        "\n",
        "Создадим 2 очереди: в одной будут лежать номера текстов, в другой будут складывать обработанные счетчики слов\n",
        "\n",
        "Почему номера а не сами текстов: копирование самих текстов дорого по памяти"
      ],
      "metadata": {
        "id": "OHwfij43geoi"
      }
    },
    {
      "cell_type": "code",
      "source": [
        "texts = data['train']['text'][: 100_000]\n",
        "vocabulary_size = 32_000\n",
        "batch_size = 100\n",
        "\n",
        "input_queue = mp.Queue()\n",
        "output_queue = mp.Queue()\n",
        "\n",
        "for batch_start in range(0, len(texts), batch_size):\n",
        "  input_queue.put((batch_start, batch_start + batch_size))\n",
        "\n",
        "def worker_function():\n",
        "  # дает процессу неотработанный текст (индекс текста)\n",
        "  batch_start, batch_end = input_queue.get()\n",
        "  print(f'Я взял кусочек с {batch_start} до {batch_end}\\n')\n",
        "  # обработать их \n",
        "  word_counter = count_tokens(\n",
        "      texts[batch_start: batch_end],\n",
        "      top_k = vocabulary_size)\n",
        "  # передача их в очередь\n",
        "  output_queue.put(word_counter)"
      ],
      "metadata": {
        "id": "yDqkdedSfGfY"
      },
      "execution_count": 26,
      "outputs": []
    },
    {
      "cell_type": "code",
      "source": [
        "for i in range(4):\n",
        "  proc = mp.Process(target = worker_function, args = [])\n",
        "  proc.start()\n",
        "\n",
        "proc.join()"
      ],
      "metadata": {
        "colab": {
          "base_uri": "https://localhost:8080/"
        },
        "id": "uPtrOqCqidpE",
        "outputId": "ae97de1d-dda0-4468-d818-cb4164c548d1"
      },
      "execution_count": 27,
      "outputs": [
        {
          "output_type": "stream",
          "name": "stdout",
          "text": [
            "Я взял кусочек с 0 до 100\n",
            "\n",
            "Я взял кусочек с 100 до 200\n",
            "\n",
            "Я взял кусочек с 200 до 300\n",
            "\n",
            "Я взял кусочек с 300 до 400\n",
            "\n"
          ]
        }
      ]
    },
    {
      "cell_type": "code",
      "source": [
        "%%time\n",
        "side_A, side_B = mp.Pipe(duplex=False)\n",
        "side_C, side_D = mp.Pipe(duplex=False)\n",
        "def foo_1(pipe):\n",
        "  # sequential algorithm \n",
        "  texts = data['train']['text'][:50_000]\n",
        "  vocabulary_size = 32_000\n",
        "  batch_size = 10000\n",
        "  token_counts = Counter()\n",
        "  for batch_start in range(0, len(texts), batch_size):\n",
        "    batch_texts = texts[batch_start: batch_start + batch_size]\n",
        "    batch_counts = count_tokens(batch_texts, top_k = vocabulary_size)\n",
        "    token_counts += batch_counts\n",
        "  pipe.send(token_counts)\n",
        "def foo_2(pipe):\n",
        "  # sequential algorithm \n",
        "  texts = data['train']['text'][50_000:100_000]\n",
        "  vocabulary_size = 32_000\n",
        "  batch_size = 10000\n",
        "  token_counts = Counter()\n",
        "  for batch_start in range(0, len(texts), batch_size):\n",
        "    batch_texts = texts[batch_start: batch_start + batch_size]\n",
        "    batch_counts = count_tokens(batch_texts, top_k = vocabulary_size)\n",
        "    token_counts += batch_counts\n",
        "  pipe.send(token_counts)\n",
        "\n",
        "proc_A = mp.Process(target = foo_1, args = [side_B])\n",
        "proc_B= mp.Process(target = foo_2, args = [side_D])\n",
        "\n",
        "proc_A.start()\n",
        "proc_B.start()\n",
        "\n",
        "proc_A.join()\n",
        "#proc_B.join()"
      ],
      "metadata": {
        "colab": {
          "base_uri": "https://localhost:8080/",
          "height": 900
        },
        "id": "1cgtoWFdcGXq",
        "outputId": "9c57f07c-f1a2-46e0-f6c3-f7700555ec5f"
      },
      "execution_count": 19,
      "outputs": [
        {
          "output_type": "stream",
          "name": "stderr",
          "text": [
            "Process Process-14:\n",
            "Process Process-13:\n",
            "Traceback (most recent call last):\n",
            "Traceback (most recent call last):\n",
            "  File \"/usr/lib/python3.8/multiprocessing/process.py\", line 315, in _bootstrap\n",
            "    self.run()\n",
            "  File \"/usr/lib/python3.8/multiprocessing/process.py\", line 108, in run\n",
            "    self._target(*self._args, **self._kwargs)\n",
            "  File \"<timed exec>\", line 15, in foo_1\n",
            "  File \"/usr/lib/python3.8/multiprocessing/process.py\", line 315, in _bootstrap\n",
            "    self.run()\n",
            "  File \"/usr/lib/python3.8/multiprocessing/connection.py\", line 206, in send\n",
            "    self._send_bytes(_ForkingPickler.dumps(obj))\n",
            "  File \"/usr/lib/python3.8/multiprocessing/process.py\", line 108, in run\n",
            "    self._target(*self._args, **self._kwargs)\n",
            "  File \"<timed exec>\", line 26, in foo_2\n",
            "  File \"/usr/lib/python3.8/multiprocessing/connection.py\", line 405, in _send_bytes\n",
            "    self._send(buf)\n",
            "  File \"/usr/lib/python3.8/multiprocessing/connection.py\", line 206, in send\n",
            "    self._send_bytes(_ForkingPickler.dumps(obj))\n",
            "  File \"/usr/lib/python3.8/multiprocessing/connection.py\", line 368, in _send\n",
            "    n = write(self._handle, buf)\n",
            "  File \"/usr/lib/python3.8/multiprocessing/connection.py\", line 405, in _send_bytes\n",
            "    self._send(buf)\n",
            "  File \"/usr/lib/python3.8/multiprocessing/connection.py\", line 368, in _send\n",
            "    n = write(self._handle, buf)\n",
            "KeyboardInterrupt\n",
            "KeyboardInterrupt\n"
          ]
        },
        {
          "output_type": "error",
          "ename": "KeyboardInterrupt",
          "evalue": "ignored",
          "traceback": [
            "\u001b[0;31m---------------------------------------------------------------------------\u001b[0m",
            "\u001b[0;31mKeyboardInterrupt\u001b[0m                         Traceback (most recent call last)",
            "\u001b[0;32m<timed exec>\u001b[0m in \u001b[0;36m<module>\u001b[0;34m\u001b[0m\n",
            "\u001b[0;32m/usr/lib/python3.8/multiprocessing/process.py\u001b[0m in \u001b[0;36mjoin\u001b[0;34m(self, timeout)\u001b[0m\n\u001b[1;32m    147\u001b[0m         \u001b[0;32massert\u001b[0m \u001b[0mself\u001b[0m\u001b[0;34m.\u001b[0m\u001b[0m_parent_pid\u001b[0m \u001b[0;34m==\u001b[0m \u001b[0mos\u001b[0m\u001b[0;34m.\u001b[0m\u001b[0mgetpid\u001b[0m\u001b[0;34m(\u001b[0m\u001b[0;34m)\u001b[0m\u001b[0;34m,\u001b[0m \u001b[0;34m'can only join a child process'\u001b[0m\u001b[0;34m\u001b[0m\u001b[0;34m\u001b[0m\u001b[0m\n\u001b[1;32m    148\u001b[0m         \u001b[0;32massert\u001b[0m \u001b[0mself\u001b[0m\u001b[0;34m.\u001b[0m\u001b[0m_popen\u001b[0m \u001b[0;32mis\u001b[0m \u001b[0;32mnot\u001b[0m \u001b[0;32mNone\u001b[0m\u001b[0;34m,\u001b[0m \u001b[0;34m'can only join a started process'\u001b[0m\u001b[0;34m\u001b[0m\u001b[0;34m\u001b[0m\u001b[0m\n\u001b[0;32m--> 149\u001b[0;31m         \u001b[0mres\u001b[0m \u001b[0;34m=\u001b[0m \u001b[0mself\u001b[0m\u001b[0;34m.\u001b[0m\u001b[0m_popen\u001b[0m\u001b[0;34m.\u001b[0m\u001b[0mwait\u001b[0m\u001b[0;34m(\u001b[0m\u001b[0mtimeout\u001b[0m\u001b[0;34m)\u001b[0m\u001b[0;34m\u001b[0m\u001b[0;34m\u001b[0m\u001b[0m\n\u001b[0m\u001b[1;32m    150\u001b[0m         \u001b[0;32mif\u001b[0m \u001b[0mres\u001b[0m \u001b[0;32mis\u001b[0m \u001b[0;32mnot\u001b[0m \u001b[0;32mNone\u001b[0m\u001b[0;34m:\u001b[0m\u001b[0;34m\u001b[0m\u001b[0;34m\u001b[0m\u001b[0m\n\u001b[1;32m    151\u001b[0m             \u001b[0m_children\u001b[0m\u001b[0;34m.\u001b[0m\u001b[0mdiscard\u001b[0m\u001b[0;34m(\u001b[0m\u001b[0mself\u001b[0m\u001b[0;34m)\u001b[0m\u001b[0;34m\u001b[0m\u001b[0;34m\u001b[0m\u001b[0m\n",
            "\u001b[0;32m/usr/lib/python3.8/multiprocessing/popen_fork.py\u001b[0m in \u001b[0;36mwait\u001b[0;34m(self, timeout)\u001b[0m\n\u001b[1;32m     45\u001b[0m                     \u001b[0;32mreturn\u001b[0m \u001b[0;32mNone\u001b[0m\u001b[0;34m\u001b[0m\u001b[0;34m\u001b[0m\u001b[0m\n\u001b[1;32m     46\u001b[0m             \u001b[0;31m# This shouldn't block if wait() returned successfully.\u001b[0m\u001b[0;34m\u001b[0m\u001b[0;34m\u001b[0m\u001b[0;34m\u001b[0m\u001b[0m\n\u001b[0;32m---> 47\u001b[0;31m             \u001b[0;32mreturn\u001b[0m \u001b[0mself\u001b[0m\u001b[0;34m.\u001b[0m\u001b[0mpoll\u001b[0m\u001b[0;34m(\u001b[0m\u001b[0mos\u001b[0m\u001b[0;34m.\u001b[0m\u001b[0mWNOHANG\u001b[0m \u001b[0;32mif\u001b[0m \u001b[0mtimeout\u001b[0m \u001b[0;34m==\u001b[0m \u001b[0;36m0.0\u001b[0m \u001b[0;32melse\u001b[0m \u001b[0;36m0\u001b[0m\u001b[0;34m)\u001b[0m\u001b[0;34m\u001b[0m\u001b[0;34m\u001b[0m\u001b[0m\n\u001b[0m\u001b[1;32m     48\u001b[0m         \u001b[0;32mreturn\u001b[0m \u001b[0mself\u001b[0m\u001b[0;34m.\u001b[0m\u001b[0mreturncode\u001b[0m\u001b[0;34m\u001b[0m\u001b[0;34m\u001b[0m\u001b[0m\n\u001b[1;32m     49\u001b[0m \u001b[0;34m\u001b[0m\u001b[0m\n",
            "\u001b[0;32m/usr/lib/python3.8/multiprocessing/popen_fork.py\u001b[0m in \u001b[0;36mpoll\u001b[0;34m(self, flag)\u001b[0m\n\u001b[1;32m     25\u001b[0m         \u001b[0;32mif\u001b[0m \u001b[0mself\u001b[0m\u001b[0;34m.\u001b[0m\u001b[0mreturncode\u001b[0m \u001b[0;32mis\u001b[0m \u001b[0;32mNone\u001b[0m\u001b[0;34m:\u001b[0m\u001b[0;34m\u001b[0m\u001b[0;34m\u001b[0m\u001b[0m\n\u001b[1;32m     26\u001b[0m             \u001b[0;32mtry\u001b[0m\u001b[0;34m:\u001b[0m\u001b[0;34m\u001b[0m\u001b[0;34m\u001b[0m\u001b[0m\n\u001b[0;32m---> 27\u001b[0;31m                 \u001b[0mpid\u001b[0m\u001b[0;34m,\u001b[0m \u001b[0msts\u001b[0m \u001b[0;34m=\u001b[0m \u001b[0mos\u001b[0m\u001b[0;34m.\u001b[0m\u001b[0mwaitpid\u001b[0m\u001b[0;34m(\u001b[0m\u001b[0mself\u001b[0m\u001b[0;34m.\u001b[0m\u001b[0mpid\u001b[0m\u001b[0;34m,\u001b[0m \u001b[0mflag\u001b[0m\u001b[0;34m)\u001b[0m\u001b[0;34m\u001b[0m\u001b[0;34m\u001b[0m\u001b[0m\n\u001b[0m\u001b[1;32m     28\u001b[0m             \u001b[0;32mexcept\u001b[0m \u001b[0mOSError\u001b[0m \u001b[0;32mas\u001b[0m \u001b[0me\u001b[0m\u001b[0;34m:\u001b[0m\u001b[0;34m\u001b[0m\u001b[0;34m\u001b[0m\u001b[0m\n\u001b[1;32m     29\u001b[0m                 \u001b[0;31m# Child process not yet created. See #1731717\u001b[0m\u001b[0;34m\u001b[0m\u001b[0;34m\u001b[0m\u001b[0;34m\u001b[0m\u001b[0m\n",
            "\u001b[0;31mKeyboardInterrupt\u001b[0m: "
          ]
        }
      ]
    },
    {
      "cell_type": "code",
      "source": [],
      "metadata": {
        "id": "VcbY4bVGcDi0"
      },
      "execution_count": null,
      "outputs": []
    }
  ]
}